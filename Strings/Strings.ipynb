{
  "nbformat": 4,
  "nbformat_minor": 0,
  "metadata": {
    "colab": {
      "name": " Strings",
      "provenance": [],
      "collapsed_sections": [],
      "include_colab_link": true
    },
    "kernelspec": {
      "name": "python3",
      "display_name": "Python 3"
    }
  },
  "cells": [
    {
      "cell_type": "markdown",
      "metadata": {
        "id": "view-in-github",
        "colab_type": "text"
      },
      "source": [
        "<a href=\"https://colab.research.google.com/github/quesia-araujo/exercicios-python/blob/main/Strings.ipynb\" target=\"_parent\"><img src=\"https://colab.research.google.com/assets/colab-badge.svg\" alt=\"Open In Colab\"/></a>"
      ]
    },
    {
      "cell_type": "markdown",
      "metadata": {
        "id": "RG92OcGC1bSH"
      },
      "source": [
        "\n",
        "## Strings\n",
        "\n",
        "Nesta aula conheceremos as *strings*, que são uma sequência de caracteres como números, letras e símbolos.\n"
      ]
    },
    {
      "cell_type": "markdown",
      "metadata": {
        "id": "CkHnujC02HJh"
      },
      "source": [
        "Strings são caracteres declarados entre aspas (simples ou duplas), sendo que esses caracteres podem ser símbolos, números ou letras.\n"
      ]
    },
    {
      "cell_type": "code",
      "metadata": {
        "id": "AB9azh_H3Hkl",
        "colab": {
          "base_uri": "https://localhost:8080/"
        },
        "outputId": "cfd53e2d-c51e-47e9-a707-f8ebebfa4191"
      },
      "source": [
        "# verificando o tipo\n",
        "type(\"tipo string\")"
      ],
      "execution_count": 1,
      "outputs": [
        {
          "output_type": "execute_result",
          "data": {
            "text/plain": [
              "str"
            ]
          },
          "metadata": {},
          "execution_count": 1
        }
      ]
    },
    {
      "cell_type": "code",
      "metadata": {
        "id": "i7fXHlKz3vS6",
        "colab": {
          "base_uri": "https://localhost:8080/"
        },
        "outputId": "8a2d378d-42ba-4e4d-c3da-faff9992af71"
      },
      "source": [
        "# associando stings às variáveis\n",
        "nome = \"Quesia\"\n",
        "sobrenome = \"Araujo\"\n",
        "sufixo = \"Santos\"\n",
        "profissao = \"Cientista\"\n",
        "\n",
        "# imprimir nome completo\n",
        "print(\"Nome completo:\")\n",
        "print(nome, sobrenome, sufixo)\n",
        "\n",
        "# imprimir profissão\n",
        "print(\"Sua profissão é\", profissao + \".\")"
      ],
      "execution_count": 6,
      "outputs": [
        {
          "output_type": "stream",
          "name": "stdout",
          "text": [
            "Nome completo:\n",
            "Quesia Araujo Santos\n",
            "Sua profissão é Cientista.\n"
          ]
        }
      ]
    },
    {
      "cell_type": "markdown",
      "metadata": {
        "id": "YP3MDpvp4BUO"
      },
      "source": [
        "É possível acessar os caracteres individuais dentro de uma *string*. Para isso, basta informar a posição desejada entre colchetes.\n",
        "\n",
        "**Lembre-se sempre que a linguagem Python (assim como a maioria) começa com uma indexação em 0.** Veja como as posições da *string* `string` estão distribuidas:\n",
        "\n",
        "| **0** | **1** | **2** | **3** | **4** | **5** |\n",
        "|:-----:|:-----:|:-----:|:-----:|:-----:|:-----:|\n",
        "| s     | t     | r     | i     | n     | g     |\n",
        "\n",
        "Uma dica, para acessar a última letra de uma *string* é só colocar `[-1]` ao final da mesma.\n",
        "\n"
      ]
    },
    {
      "cell_type": "code",
      "metadata": {
        "id": "SomdfCeS5G_-",
        "colab": {
          "base_uri": "https://localhost:8080/",
          "height": 35
        },
        "outputId": "f74494d7-442b-4e20-f639-4b5efbbd673e"
      },
      "source": [
        "# criando a variável\n",
        "nome = \"String\"\n",
        "\n",
        "# ver qual é a primeira letra da variável `nome`\n",
        "nome[0]"
      ],
      "execution_count": 8,
      "outputs": [
        {
          "output_type": "execute_result",
          "data": {
            "text/plain": [
              "'S'"
            ],
            "application/vnd.google.colaboratory.intrinsic+json": {
              "type": "string"
            }
          },
          "metadata": {},
          "execution_count": 8
        }
      ]
    },
    {
      "cell_type": "code",
      "metadata": {
        "id": "1GLcSOmw5Tnc",
        "colab": {
          "base_uri": "https://localhost:8080/",
          "height": 35
        },
        "outputId": "29df6d53-7a3c-4da9-e797-7d9dd24f7572"
      },
      "source": [
        "# ver qual a última letra da variável `nome`\n",
        "nome[-1]"
      ],
      "execution_count": 9,
      "outputs": [
        {
          "output_type": "execute_result",
          "data": {
            "text/plain": [
              "'g'"
            ],
            "application/vnd.google.colaboratory.intrinsic+json": {
              "type": "string"
            }
          },
          "metadata": {},
          "execution_count": 9
        }
      ]
    },
    {
      "cell_type": "markdown",
      "metadata": {
        "id": "uBz-T_tk5nuV"
      },
      "source": [
        "### Função  `len()`\n",
        "\n",
        "\n",
        "Para saber o tamanho de uma *string*, existe no Python uma função chamada `len()`, que irá sempre retornar um valor do tipo inteiro (`int`)."
      ]
    },
    {
      "cell_type": "code",
      "metadata": {
        "id": "QWjKTNXG6B-1",
        "colab": {
          "base_uri": "https://localhost:8080/"
        },
        "outputId": "7fb2c790-8d64-4efb-a9fe-b0eefb0eaeff"
      },
      "source": [
        "# verificar o tamanho da sequência de um DNA\n",
        "dna = 'ATGCGGACCTAT'\n",
        "\n",
        "len(dna)"
      ],
      "execution_count": 10,
      "outputs": [
        {
          "output_type": "execute_result",
          "data": {
            "text/plain": [
              "12"
            ]
          },
          "metadata": {},
          "execution_count": 10
        }
      ]
    },
    {
      "cell_type": "markdown",
      "metadata": {
        "id": "8_8c7E5pM4_D"
      },
      "source": [
        "### Função `split()`\n",
        "\n",
        "A função `split()` serve para você separar *strings* baseando-se em um **delimitador**. Por exemplo, a variável nome da célula abaixo contém 3 nomes separados por vírgulas.\n",
        "\n",
        "Para eu extrair esses nomes, basta eu executar `nomes.split(',')`, e o Python vai me retornar uma lista com 3 itens.\n"
      ]
    },
    {
      "cell_type": "code",
      "metadata": {
        "id": "cHMzFgI1NKD4",
        "colab": {
          "base_uri": "https://localhost:8080/"
        },
        "outputId": "f2796004-9d6a-4e4d-c459-8aa4a007d385"
      },
      "source": [
        "nomes = \"Ana,Ricardo,Theo\"\n",
        "\n",
        "nomes.split(\",\")"
      ],
      "execution_count": 11,
      "outputs": [
        {
          "output_type": "execute_result",
          "data": {
            "text/plain": [
              "['Ana', 'Ricardo', 'Theo']"
            ]
          },
          "metadata": {},
          "execution_count": 11
        }
      ]
    },
    {
      "cell_type": "markdown",
      "metadata": {
        "id": "AznUPY6GN2Ef"
      },
      "source": [
        "### Função `replace()`\n",
        "\n",
        "Essa função serve para substituir caracteres dentro de uma string.\n",
        "\n",
        "Imagine a situação que você importa uma tabela sua do Excel, e os valores monetários estão no sistema brasileiro,ou seja, as casas decimais estão separadas por vírgulas.\n",
        "\n",
        "Se eu quiser converter uma string do tipo `9,50` em um valor numérico, eu tenho que substituir a vírgula pelo ponto:"
      ]
    },
    {
      "cell_type": "code",
      "metadata": {
        "id": "hnan1bvbN6gu"
      },
      "source": [
        "# criando a variável\n",
        "valor = \"9,50\""
      ],
      "execution_count": 12,
      "outputs": []
    },
    {
      "cell_type": "code",
      "metadata": {
        "id": "jl4aiAkcOx3q",
        "colab": {
          "base_uri": "https://localhost:8080/"
        },
        "outputId": "0ed60f6d-eacb-4476-8614-c645ca7beabd"
      },
      "source": [
        "# trocando a vírgula por ponto\n",
        "float(valor.replace(\",\", \".\"))"
      ],
      "execution_count": 13,
      "outputs": [
        {
          "output_type": "execute_result",
          "data": {
            "text/plain": [
              "9.5"
            ]
          },
          "metadata": {},
          "execution_count": 13
        }
      ]
    },
    {
      "cell_type": "markdown",
      "metadata": {
        "id": "3DXl0egTPKUf"
      },
      "source": [
        "### Função `strip()`\n",
        "\n",
        "Remove ou espaços em branco ou caracteres indesejados. Pode ser usada tanto para remover espaços em branco no começo e final de uma *string*, quanto para remover caracteres indesejados."
      ]
    },
    {
      "cell_type": "code",
      "metadata": {
        "id": "L3WNVdSHPcgR",
        "colab": {
          "base_uri": "https://localhost:8080/",
          "height": 35
        },
        "outputId": "20d19726-942e-4b98-dd28-33c823deb6fc"
      },
      "source": [
        "# criando a variável\n",
        "nome = \"     Ana Maria     \"\n",
        "\n",
        "# utilizando a função strip\n",
        "nome.strip()"
      ],
      "execution_count": 14,
      "outputs": [
        {
          "output_type": "execute_result",
          "data": {
            "text/plain": [
              "'Ana Maria'"
            ],
            "application/vnd.google.colaboratory.intrinsic+json": {
              "type": "string"
            }
          },
          "metadata": {},
          "execution_count": 14
        }
      ]
    },
    {
      "cell_type": "markdown",
      "metadata": {
        "id": "K-NCdAuzPqCn"
      },
      "source": [
        "Voltando ao exemplo que usei na função `replace()`, imagine que quando você importou seus dados eles virem da seguinte forma: `R$ 9,00`.\n",
        "\n",
        "Se você quiser converter para um número, precisa antes eliminar os caracteres `R$ `"
      ]
    },
    {
      "cell_type": "code",
      "metadata": {
        "id": "WTBVx1_MOxxK",
        "colab": {
          "base_uri": "https://localhost:8080/",
          "height": 35
        },
        "outputId": "be79d032-9ef6-42c9-8ff4-17faf3d2c860"
      },
      "source": [
        "# Removendo R$\n",
        "\"R$ 9,50\".strip('R$ ')"
      ],
      "execution_count": 15,
      "outputs": [
        {
          "output_type": "execute_result",
          "data": {
            "text/plain": [
              "'9,50'"
            ],
            "application/vnd.google.colaboratory.intrinsic+json": {
              "type": "string"
            }
          },
          "metadata": {},
          "execution_count": 15
        }
      ]
    },
    {
      "cell_type": "code",
      "metadata": {
        "id": "NNdcdLZaP-J4",
        "colab": {
          "base_uri": "https://localhost:8080/",
          "height": 35
        },
        "outputId": "9b4e7b28-db11-402a-ceab-0731300ec871"
      },
      "source": [
        "# Removendo R$ e substituindo \",\" por \".\"\n",
        "\"R$ 9,50\".strip('R$ ').replace(',', '.')"
      ],
      "execution_count": 18,
      "outputs": [
        {
          "output_type": "execute_result",
          "data": {
            "text/plain": [
              "'9.50'"
            ],
            "application/vnd.google.colaboratory.intrinsic+json": {
              "type": "string"
            }
          },
          "metadata": {},
          "execution_count": 18
        }
      ]
    },
    {
      "cell_type": "code",
      "metadata": {
        "id": "2PLQynBSQF-s",
        "colab": {
          "base_uri": "https://localhost:8080/"
        },
        "outputId": "76051c28-fc4d-49e9-f7d6-b6049a216f7d"
      },
      "source": [
        "# # Removendo R$,   substituindo \",\" por \".\" e convertendo string para float\n",
        "float(\"R$ 9,50\".strip('R$ ').replace(',', '.'))"
      ],
      "execution_count": 19,
      "outputs": [
        {
          "output_type": "execute_result",
          "data": {
            "text/plain": [
              "9.5"
            ]
          },
          "metadata": {},
          "execution_count": 19
        }
      ]
    },
    {
      "cell_type": "markdown",
      "metadata": {
        "id": "ySjn4_qerQuV"
      },
      "source": [
        "### Slicing\n",
        "O Python nos permite \"cortar\" as nossas strings, técnica chamada de `slicing`.\n",
        "\n",
        "Como exemplo, vamos usar a variável abaixo"
      ]
    },
    {
      "cell_type": "code",
      "metadata": {
        "id": "T9zSl6dmsKDZ"
      },
      "source": [
        "nome = 'Quesia'"
      ],
      "execution_count": 21,
      "outputs": []
    },
    {
      "cell_type": "markdown",
      "metadata": {
        "id": "yLgE_lmMsNr7"
      },
      "source": [
        "Para fazer o slicing, nós chamamos a variável a ser \"fatiada\", e colocamos entre colchetes o index de início e fim, separados por `:`.\n",
        "\n",
        "Lembre-se que a indexação em Python começa no zero, portanto:\n",
        "* [0] - Q\n",
        "* [1] - u\n",
        "* [2] - e\n",
        "* [3] - s\n",
        "* [4] - i\n",
        "* [5] - a\n",
        "\n",
        "Também é importante saber que a posição final não é incluída. Ou seja, se chamarmos o slicing da seguinte forma:\n",
        "\n",
        "nome[2:4]\n",
        "\n",
        "teríamos como retorno as letras\n",
        "* [2] - e\n",
        "* [3] - s\n",
        "\n",
        "pois a letra `i` na posição quatro, não é incluída no slicing."
      ]
    },
    {
      "cell_type": "code",
      "metadata": {
        "id": "DbmKmqFtsi2l",
        "colab": {
          "base_uri": "https://localhost:8080/",
          "height": 35
        },
        "outputId": "0eb5eff2-df2b-42c2-b755-a79b92ab9479"
      },
      "source": [
        "# slicing da variável `nome`\n",
        "nome[2:4]"
      ],
      "execution_count": 22,
      "outputs": [
        {
          "output_type": "execute_result",
          "data": {
            "text/plain": [
              "'es'"
            ],
            "application/vnd.google.colaboratory.intrinsic+json": {
              "type": "string"
            }
          },
          "metadata": {},
          "execution_count": 22
        }
      ]
    },
    {
      "cell_type": "markdown",
      "metadata": {
        "id": "P4U-VPX_tVKe"
      },
      "source": [
        "Também podemos omitir uma das variáveis, e isso fará que o slicing comece desde o primeiro index, e termine no último."
      ]
    },
    {
      "cell_type": "code",
      "metadata": {
        "id": "Wdayk44ctf_0",
        "colab": {
          "base_uri": "https://localhost:8080/",
          "height": 35
        },
        "outputId": "b5928e2c-99d2-4742-c0b2-0704e4a213ff"
      },
      "source": [
        "# slicing do começo ao 4\n",
        "nome[:4]"
      ],
      "execution_count": 23,
      "outputs": [
        {
          "output_type": "execute_result",
          "data": {
            "text/plain": [
              "'Ques'"
            ],
            "application/vnd.google.colaboratory.intrinsic+json": {
              "type": "string"
            }
          },
          "metadata": {},
          "execution_count": 23
        }
      ]
    },
    {
      "cell_type": "code",
      "metadata": {
        "id": "dyArnh5StjcO",
        "colab": {
          "base_uri": "https://localhost:8080/",
          "height": 35
        },
        "outputId": "d4c84fb6-6b45-4cfe-e78e-d2919cda28b8"
      },
      "source": [
        "# slicing do 2 ao fim\n",
        "nome[2:]"
      ],
      "execution_count": 24,
      "outputs": [
        {
          "output_type": "execute_result",
          "data": {
            "text/plain": [
              "'esia'"
            ],
            "application/vnd.google.colaboratory.intrinsic+json": {
              "type": "string"
            }
          },
          "metadata": {},
          "execution_count": 24
        }
      ]
    },
    {
      "cell_type": "markdown",
      "metadata": {
        "id": "STzIbrrHtupA"
      },
      "source": [
        "Lembre-se que podemos adicionar as strings. Podemos fazer isso também usando slicing."
      ]
    },
    {
      "cell_type": "code",
      "metadata": {
        "id": "o-bJyr7Ft-tM",
        "colab": {
          "base_uri": "https://localhost:8080/"
        },
        "outputId": "306f7720-bde2-4fb3-fe24-52133b08c681"
      },
      "source": [
        "print('Nome Completo: ', nome)\n",
        "print('Primeira parte: ', nome[:3])\n",
        "print('Segunda parte: ', nome[3:])\n",
        "print('Nome feito adicionando Slices: ', nome[:3] + nome[3:])"
      ],
      "execution_count": 25,
      "outputs": [
        {
          "output_type": "stream",
          "name": "stdout",
          "text": [
            "Nome Completo:  Quesia\n",
            "Primeira parte:  Que\n",
            "Segunda parte:  sia\n",
            "Nome feito adicionando Slices:  Quesia\n"
          ]
        }
      ]
    },
    {
      "cell_type": "markdown",
      "metadata": {
        "id": "k4iZsmTju0FS"
      },
      "source": [
        "Ainda falando de slices, nós também podemos definir um *step*, ou um passo de intervalo, para que os caracteres sejam pulados.\n",
        "\n",
        "Vamos ver como isso funciona na prática."
      ]
    },
    {
      "cell_type": "code",
      "metadata": {
        "id": "6OkCSg7Bt-qS",
        "colab": {
          "base_uri": "https://localhost:8080/"
        },
        "outputId": "23656b36-9038-4810-e21f-283ab761b041"
      },
      "source": [
        "# criando a variável\n",
        "num = '123456789'\n",
        "print(num)"
      ],
      "execution_count": 27,
      "outputs": [
        {
          "output_type": "stream",
          "name": "stdout",
          "text": [
            "123456789\n"
          ]
        }
      ]
    },
    {
      "cell_type": "markdown",
      "metadata": {
        "id": "in6-LXikxWWv"
      },
      "source": [
        "Como temos 27 caracteres, isso significa que nossos índices vão do 0 ao 26, totalizando 27.\n",
        "\n",
        "Podemos usar o slicing para mostrar apenas os números ímpares, por exemplo, basta acrescentar um dígito extra, que é o step.\n",
        "\n",
        "A sintaxe fica da seguinte forma:\n",
        "\n",
        "> variável[index_início, index_final, step]"
      ]
    },
    {
      "cell_type": "code",
      "metadata": {
        "id": "lJCBFto8t-mD",
        "colab": {
          "base_uri": "https://localhost:8080/",
          "height": 35
        },
        "outputId": "434f5421-d22b-406d-abfd-765f9534286a"
      },
      "source": [
        "# slicing da variável num, começando do primeiro caractere, indo até o último, em step 2, ou seja\n",
        "# mostra um, pula um\n",
        "num[::2]"
      ],
      "execution_count": 28,
      "outputs": [
        {
          "output_type": "execute_result",
          "data": {
            "text/plain": [
              "'13579'"
            ],
            "application/vnd.google.colaboratory.intrinsic+json": {
              "type": "string"
            }
          },
          "metadata": {},
          "execution_count": 28
        }
      ]
    },
    {
      "cell_type": "code",
      "metadata": {
        "id": "riDXQdASt-h9",
        "colab": {
          "base_uri": "https://localhost:8080/",
          "height": 35
        },
        "outputId": "3f34198b-b918-4da2-dc35-591c0fc6c9a9"
      },
      "source": [
        "# para visualizarmos os pares, basta começar da posição 2\n",
        "# aqui temos dois `:`, pois indicamos o início, até (:) o final (:) e step 2.\n",
        "num[1::2]"
      ],
      "execution_count": 29,
      "outputs": [
        {
          "output_type": "execute_result",
          "data": {
            "text/plain": [
              "'2468'"
            ],
            "application/vnd.google.colaboratory.intrinsic+json": {
              "type": "string"
            }
          },
          "metadata": {},
          "execution_count": 29
        }
      ]
    },
    {
      "cell_type": "markdown",
      "metadata": {
        "id": "3fSBvaT60k5Q"
      },
      "source": [
        "### Convertendo Strings\n",
        "\n",
        "Por padrão, podemos usar o Python para converter as strings em maíusculas, minúsculas, etc.\n",
        "\n",
        "Esses processos são bastante úteis ao tratarmos dados em formato string."
      ]
    },
    {
      "cell_type": "code",
      "metadata": {
        "id": "CfQn2sOZ01UQ"
      },
      "source": [
        "# criando a variável a ser manipulada\n",
        "nome = \"José Santos da Silva\""
      ],
      "execution_count": 44,
      "outputs": []
    },
    {
      "cell_type": "code",
      "metadata": {
        "id": "Roz1Iyjfqb05",
        "colab": {
          "base_uri": "https://localhost:8080/",
          "height": 35
        },
        "outputId": "cd9e63c0-3d22-444c-a9b4-4106e1b74898"
      },
      "source": [
        "nome"
      ],
      "execution_count": 43,
      "outputs": [
        {
          "output_type": "execute_result",
          "data": {
            "text/plain": [
              "'josé Santos da Silva'"
            ],
            "application/vnd.google.colaboratory.intrinsic+json": {
              "type": "string"
            }
          },
          "metadata": {},
          "execution_count": 43
        }
      ]
    },
    {
      "cell_type": "markdown",
      "metadata": {
        "id": "t0XYyrvX090s"
      },
      "source": [
        "#### capitalize()\n",
        "\n",
        "Essa função transforma o primeiro caractere em maiúsculo."
      ]
    },
    {
      "cell_type": "code",
      "metadata": {
        "id": "6yxD1ELg1Jha",
        "colab": {
          "base_uri": "https://localhost:8080/",
          "height": 35
        },
        "outputId": "3281f97f-29e9-4238-be3a-c034bd35fb1b"
      },
      "source": [
        "# utilizando capitalize\n",
        "nome.capitalize()"
      ],
      "execution_count": 32,
      "outputs": [
        {
          "output_type": "execute_result",
          "data": {
            "text/plain": [
              "'José santos da silva'"
            ],
            "application/vnd.google.colaboratory.intrinsic+json": {
              "type": "string"
            }
          },
          "metadata": {},
          "execution_count": 32
        }
      ]
    },
    {
      "cell_type": "markdown",
      "metadata": {
        "id": "qcT6MGNM1NbB"
      },
      "source": [
        "#### lower()\n",
        "Essa função transforma todos os caracteres em minúsculo."
      ]
    },
    {
      "cell_type": "code",
      "metadata": {
        "id": "DFVQ5WHd1T6G",
        "colab": {
          "base_uri": "https://localhost:8080/",
          "height": 35
        },
        "outputId": "dacd2c80-10ca-4fa0-e8b5-63dda6e9ceb9"
      },
      "source": [
        "# utilizando lower\n",
        "nome.lower()"
      ],
      "execution_count": 33,
      "outputs": [
        {
          "output_type": "execute_result",
          "data": {
            "text/plain": [
              "'josé santos da silva'"
            ],
            "application/vnd.google.colaboratory.intrinsic+json": {
              "type": "string"
            }
          },
          "metadata": {},
          "execution_count": 33
        }
      ]
    },
    {
      "cell_type": "markdown",
      "metadata": {
        "id": "UKhq2br-1Wbh"
      },
      "source": [
        "#### upper()\n",
        "Para tornar todas maiúsculas, basta usar essa função."
      ]
    },
    {
      "cell_type": "code",
      "metadata": {
        "id": "VNXRV0Hi1f56",
        "colab": {
          "base_uri": "https://localhost:8080/",
          "height": 35
        },
        "outputId": "ca9ac397-e101-4769-ef8d-dfa6024ea1a0"
      },
      "source": [
        "# utilizando upper\n",
        "nome.upper()"
      ],
      "execution_count": 39,
      "outputs": [
        {
          "output_type": "execute_result",
          "data": {
            "text/plain": [
              "'JOSÉ SANTOS DA SILVA'"
            ],
            "application/vnd.google.colaboratory.intrinsic+json": {
              "type": "string"
            }
          },
          "metadata": {},
          "execution_count": 39
        }
      ]
    },
    {
      "cell_type": "markdown",
      "metadata": {
        "id": "_u6ERCaH1ieJ"
      },
      "source": [
        "#### title()\n",
        "Essa função transforma a primeira letra de cada palavra em maiúscula."
      ]
    },
    {
      "cell_type": "code",
      "metadata": {
        "id": "g0UGyX6Q1h1g",
        "colab": {
          "base_uri": "https://localhost:8080/",
          "height": 35
        },
        "outputId": "dbcd16e7-686e-46a2-b116-9b0dbd998839"
      },
      "source": [
        "# utilizando title\n",
        "nome.title()"
      ],
      "execution_count": 41,
      "outputs": [
        {
          "output_type": "execute_result",
          "data": {
            "text/plain": [
              "'José Santos Da Silva'"
            ],
            "application/vnd.google.colaboratory.intrinsic+json": {
              "type": "string"
            }
          },
          "metadata": {},
          "execution_count": 41
        }
      ]
    },
    {
      "cell_type": "markdown",
      "metadata": {
        "id": "yggT9_7N1ts6"
      },
      "source": [
        "#### swapcase()\n",
        "Aqui iremos inverter as coisas, transformando maiúsculas em minúsculas, e vice-versa."
      ]
    },
    {
      "cell_type": "code",
      "metadata": {
        "id": "O7kkYBfR11xA",
        "colab": {
          "base_uri": "https://localhost:8080/",
          "height": 35
        },
        "outputId": "dfc00669-6f74-4b35-8745-111c6973b833"
      },
      "source": [
        "# utilizando swapcase\n",
        "nome.swapcase()"
      ],
      "execution_count": 45,
      "outputs": [
        {
          "output_type": "execute_result",
          "data": {
            "text/plain": [
              "'jOSÉ sANTOS DA sILVA'"
            ],
            "application/vnd.google.colaboratory.intrinsic+json": {
              "type": "string"
            }
          },
          "metadata": {},
          "execution_count": 45
        }
      ]
    }
  ]
}