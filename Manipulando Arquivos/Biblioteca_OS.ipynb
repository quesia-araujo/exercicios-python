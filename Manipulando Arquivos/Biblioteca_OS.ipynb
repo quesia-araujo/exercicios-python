{
  "nbformat": 4,
  "nbformat_minor": 0,
  "metadata": {
    "colab": {
      "name": "Biblioteca OS",
      "provenance": [],
      "collapsed_sections": [],
      "include_colab_link": true
    },
    "kernelspec": {
      "name": "python3",
      "display_name": "Python 3"
    }
  },
  "cells": [
    {
      "cell_type": "markdown",
      "metadata": {
        "id": "view-in-github",
        "colab_type": "text"
      },
      "source": [
        "<a href=\"https://colab.research.google.com/github/quesia-araujo/exercicios-python/blob/main/Biblioteca_OS.ipynb\" target=\"_parent\"><img src=\"https://colab.research.google.com/assets/colab-badge.svg\" alt=\"Open In Colab\"/></a>"
      ]
    },
    {
      "cell_type": "markdown",
      "metadata": {
        "id": "5_EXCiA03NMf"
      },
      "source": [
        "\n",
        "## Biblioteca OS\n",
        "\n",
        "A biblioteca OS nos dá a possibilidade de interagir com o Sistema Operacional através do Python. Com ela, podemos acessar, modificar, mover, apagar aquivos, entre muitas outras funçoes.\n",
        "\n",
        "\n",
        "Essa biblioteca será extremamente útil em nosso fluxo de trabalho com Python.\n",
        "\n",
        "Então vamos importar a biblioteca e começar a explorar suas funcionalidades."
      ]
    },
    {
      "cell_type": "code",
      "metadata": {
        "id": "EkCAOo5g22Wy"
      },
      "source": [
        "# importando a biblioteca\n",
        "import os"
      ],
      "execution_count": 1,
      "outputs": []
    },
    {
      "cell_type": "markdown",
      "metadata": {
        "id": "8ZPUMfhN4Zy5"
      },
      "source": [
        "## getcwd()\n",
        "\n",
        "Antes de começarmos a explorar os diretórios e arquivos, é importante sabermos onde estamos. Pra isso, usaremos o `getcwd`. Em traduçao livre, o comando *Get Current Directory* significa \"pegar o diretório atual\".\n",
        "\n",
        "Como estamos no ambiente do colab, ele vai nos apresentar /content. Você pode ver os arquivos que estão lá ao clicar no ícone de pasta à esquerda do seu navegador aqui no colab."
      ]
    },
    {
      "cell_type": "code",
      "metadata": {
        "id": "47csF4x_36uT",
        "colab": {
          "base_uri": "https://localhost:8080/",
          "height": 35
        },
        "outputId": "5d76df28-b027-419c-855d-4f2e5ddea63a"
      },
      "source": [
        "# verificar o diretório atual\n",
        "os.getcwd() "
      ],
      "execution_count": 2,
      "outputs": [
        {
          "output_type": "execute_result",
          "data": {
            "text/plain": [
              "'/content'"
            ],
            "application/vnd.google.colaboratory.intrinsic+json": {
              "type": "string"
            }
          },
          "metadata": {},
          "execution_count": 2
        }
      ]
    },
    {
      "cell_type": "markdown",
      "metadata": {
        "id": "-tzq7_-QwmBR"
      },
      "source": [
        "## chdir()\n",
        "\n",
        "Saber mudar de pasta é importante. Imagine que todos os seus arquivos já estão localizados dentro de um único diretório. Não faz sentido digitar o endereço completo toda hora.\n",
        "\n",
        "Isso sem falar no risco de você alterar arquivos em diretórios errados, por engano."
      ]
    },
    {
      "cell_type": "code",
      "metadata": {
        "id": "AwzGUsJywnMU"
      },
      "source": [
        "# mudar de diretório\n",
        "os.chdir(\"/content/sample_data\")"
      ],
      "execution_count": 3,
      "outputs": []
    },
    {
      "cell_type": "markdown",
      "metadata": {
        "id": "7Ci90bO-41Op"
      },
      "source": [
        "## listdir()\n",
        "\n",
        "Outra função interessante é listar o conteúdo dentro do diretório atual. Para isso utilizaremos o `listdir`.\n",
        "\n",
        "Aqui, mais uma vez, o resultado seria diferente em uma máquina local, a depender de onde você iniciou o Jupyter Notebook. No Colab, a referência continua sendo o ícone clicado anteriormente.\n",
        "\n",
        "A pasta com ícone de seta para cima se refere ao .config, e a outra pasta, é o sample_data."
      ]
    },
    {
      "cell_type": "code",
      "metadata": {
        "id": "4x8t5Waz4GiJ",
        "colab": {
          "base_uri": "https://localhost:8080/"
        },
        "outputId": "88695b0e-9572-49dc-c4ae-b56ab49682c7"
      },
      "source": [
        "# listar conteúdo do diretório atual\n",
        "os.listdir()"
      ],
      "execution_count": 4,
      "outputs": [
        {
          "output_type": "execute_result",
          "data": {
            "text/plain": [
              "['README.md',\n",
              " 'anscombe.json',\n",
              " 'california_housing_train.csv',\n",
              " 'california_housing_test.csv',\n",
              " 'mnist_train_small.csv',\n",
              " 'mnist_test.csv']"
            ]
          },
          "metadata": {},
          "execution_count": 4
        }
      ]
    },
    {
      "cell_type": "markdown",
      "metadata": {
        "id": "lysBesvO5rVW"
      },
      "source": [
        "## open() / close()\n",
        "\n",
        "Para abrir determinado arquivo, usamos a função `open()`. Após terminarmos de trabalhar com esse arquivo, podemos fechar o mesmo utilizando o `close()`.\n",
        "\n",
        " Podemos abrir um arquivo para **leitura ('r')**, para **escrita ('w')**, ou para **acrescentar ('a')**.Metodos\n",
        "\n",
        "Nesse caso, nós ainda não temos um arquivo para abrir, então vamos criar um.\n",
        "\n",
        "Lembre-se que linguagens de programação são ferramentas, e existem várias formas de fazer a mesma coisa. Abaixo, vamos ver duas formas diferentes de criar um arquivo.\n",
        "\n",
        "Primeiramente, vamos criar o arquivo e associar ele a uma variável."
      ]
    },
    {
      "cell_type": "code",
      "metadata": {
        "id": "p3F5QGIm8DCD",
        "colab": {
          "base_uri": "https://localhost:8080/"
        },
        "outputId": "df80b8b2-72d0-485f-e55d-e4bbdbba778b"
      },
      "source": [
        "# conferindo a criação do arquivo\n",
        "os.listdir()"
      ],
      "execution_count": 8,
      "outputs": [
        {
          "output_type": "execute_result",
          "data": {
            "text/plain": [
              "['README.md',\n",
              " 'anscombe.json',\n",
              " 'test.txt',\n",
              " 'california_housing_train.csv',\n",
              " 'california_housing_test.csv',\n",
              " 'mnist_train_small.csv',\n",
              " 'mnist_test.csv']"
            ]
          },
          "metadata": {},
          "execution_count": 8
        }
      ]
    },
    {
      "cell_type": "code",
      "source": [
        "# pensando em automação // usando índices\n",
        "meus_arquivos = os.listdir()\n",
        "print(meus_arquivos[3])"
      ],
      "metadata": {
        "colab": {
          "base_uri": "https://localhost:8080/"
        },
        "id": "bQYi9n4FFQgS",
        "outputId": "f2cc59ce-e245-4808-fcc4-da671d5cefd1"
      },
      "execution_count": 14,
      "outputs": [
        {
          "output_type": "stream",
          "name": "stdout",
          "text": [
            "california_housing_train.csv\n"
          ]
        }
      ]
    },
    {
      "cell_type": "code",
      "metadata": {
        "id": "gs4YG-1A4IAR"
      },
      "source": [
        "# criando o arquivo\n",
        "arquivo = \"test.txt\"\n",
        "\n",
        "# abrindo o arquivo no modo que permite escrita \n",
        "file = open('test.txt', 'w') \n",
        "file.write(\"Escrevendo no arquivo test\") \n",
        "file.close() "
      ],
      "execution_count": 7,
      "outputs": []
    },
    {
      "cell_type": "code",
      "metadata": {
        "id": "80e3XmjC6UIo",
        "colab": {
          "base_uri": "https://localhost:8080/"
        },
        "outputId": "d929b7b7-d238-4bab-c429-1a55938fde02"
      },
      "source": [
        "# abrindo o arquivo para leitura\n",
        "file = open('test.txt', 'r') \n",
        "\n",
        "# lendo o arquivo\n",
        "print(file.read())\n",
        "\n",
        "# fechar o arquivo\n",
        "file.close()"
      ],
      "execution_count": 9,
      "outputs": [
        {
          "output_type": "stream",
          "name": "stdout",
          "text": [
            "Escrevendo no arquivo test\n"
          ]
        }
      ]
    },
    {
      "cell_type": "markdown",
      "metadata": {
        "id": "EGj5mh0OWSyg"
      },
      "source": [
        "Também é possível utilizar a função `with` para manter o arquivo aberto enquanto o manipulamos utilizando os comandos acima.\n",
        "\n",
        "Basicamente o que faremos é criar uma função dizendo que:\n",
        "`com` o arquivo aberto na função x como `variável`: faça tal coisa.\n",
        "\n",
        "Aqui, vamos ver uma outra possibilidade para a criação de arquivo. Quando abrimos um arquivo para escrever, caso ele não exista, ele é criado."
      ]
    },
    {
      "cell_type": "code",
      "metadata": {
        "id": "i0KJaG1GXAX3"
      },
      "source": [
        "# criando e escrevendo no arquivo\n",
        "with open('test.txt', 'w') as txt:\n",
        "  txt.write(\"Testando a função\")"
      ],
      "execution_count": 15,
      "outputs": []
    },
    {
      "cell_type": "markdown",
      "metadata": {
        "id": "vELHzXlSbst3"
      },
      "source": [
        "Como vimos anteriormente, podemos também acrescentar informações a um arquivo existente. \n",
        "\n",
        "Para isso, vamos abrir o arquivo na função de **acrescentar ('a')**."
      ]
    },
    {
      "cell_type": "code",
      "metadata": {
        "id": "0ptRev96aErU"
      },
      "source": [
        "# adicionando informações ao arquivo\n",
        "with open('test.txt', 'a') as txt:\n",
        "  txt.write(\"\\nMais Teste informações\")"
      ],
      "execution_count": 16,
      "outputs": []
    },
    {
      "cell_type": "markdown",
      "metadata": {
        "id": "4Yf9lZUVcjCX"
      },
      "source": [
        "Por fim, vamos ver o resultado."
      ]
    },
    {
      "cell_type": "code",
      "metadata": {
        "id": "ZVZhGwCXXd8C",
        "colab": {
          "base_uri": "https://localhost:8080/"
        },
        "outputId": "8013e58e-933f-463d-9e61-78f0cb1dcb82"
      },
      "source": [
        "# lendo o arquivo\n",
        "with open('test.txt', 'r') as txt:\n",
        "  print(txt.read())"
      ],
      "execution_count": 17,
      "outputs": [
        {
          "output_type": "stream",
          "name": "stdout",
          "text": [
            "Testando a função\n",
            "Mais Teste informações\n"
          ]
        }
      ]
    },
    {
      "cell_type": "markdown",
      "metadata": {
        "id": "0NkdNKGi7IgL"
      },
      "source": [
        "## rename() \n",
        "\n",
        "Um arquivo pode ser renomeado utilizando a função `rename()`.\n",
        "\n",
        "Atenção, pois o nome só é mudado caso o aquivo já exista, e o usuário fazendo a mudança tenha permissão para isso."
      ]
    },
    {
      "cell_type": "code",
      "metadata": {
        "id": "BIi5aFH55oHO",
        "colab": {
          "base_uri": "https://localhost:8080/"
        },
        "outputId": "0c12e31c-af4d-41bb-9711-76a88665f21b"
      },
      "source": [
        "# renomeando o arquivo\n",
        "os.rename('test.txt', 'test2.txt') \n",
        "\n",
        "# verificando que o nome do arquivo foi mudado\n",
        "os.listdir()"
      ],
      "execution_count": 18,
      "outputs": [
        {
          "output_type": "execute_result",
          "data": {
            "text/plain": [
              "['README.md',\n",
              " 'anscombe.json',\n",
              " 'test2.txt',\n",
              " 'california_housing_train.csv',\n",
              " 'california_housing_test.csv',\n",
              " 'mnist_train_small.csv',\n",
              " 'mnist_test.csv']"
            ]
          },
          "metadata": {},
          "execution_count": 18
        }
      ]
    },
    {
      "cell_type": "markdown",
      "metadata": {
        "id": "9g9KoroN8eG3"
      },
      "source": [
        "# Exercícios\n",
        "\n",
        "Agora vamos para prática.\n"
      ]
    },
    {
      "cell_type": "markdown",
      "metadata": {
        "id": "5wbikzKZ8kqC"
      },
      "source": [
        "### Exercício 1\n",
        "\n",
        "Importe a biblioteca OS e verifique:"
      ]
    },
    {
      "cell_type": "code",
      "metadata": {
        "id": "wsoJhPf98jhD",
        "colab": {
          "base_uri": "https://localhost:8080/",
          "height": 35
        },
        "outputId": "394f0a88-93a6-436b-aa24-feefa568a9e1"
      },
      "source": [
        "# a) em que diretório você está\n",
        "os.getcwd()\n"
      ],
      "execution_count": 19,
      "outputs": [
        {
          "output_type": "execute_result",
          "data": {
            "text/plain": [
              "'/content/sample_data'"
            ],
            "application/vnd.google.colaboratory.intrinsic+json": {
              "type": "string"
            }
          },
          "metadata": {},
          "execution_count": 19
        }
      ]
    },
    {
      "cell_type": "code",
      "metadata": {
        "id": "AB1GRnbc8sMr",
        "colab": {
          "base_uri": "https://localhost:8080/"
        },
        "outputId": "88b77ed5-3e6f-4e3f-fa99-49075aceb45c"
      },
      "source": [
        "# b) o que há dentro do diretório\n",
        "os.listdir()"
      ],
      "execution_count": 21,
      "outputs": [
        {
          "output_type": "execute_result",
          "data": {
            "text/plain": [
              "['README.md',\n",
              " 'anscombe.json',\n",
              " 'test2.txt',\n",
              " 'california_housing_train.csv',\n",
              " 'california_housing_test.csv',\n",
              " 'mnist_train_small.csv',\n",
              " 'mnist_test.csv']"
            ]
          },
          "metadata": {},
          "execution_count": 21
        }
      ]
    },
    {
      "cell_type": "markdown",
      "metadata": {
        "id": "HKNaYTdc8xn1"
      },
      "source": [
        "### Exercício 2\n",
        "\n",
        "Faça o que se pede na célula abaixo:"
      ]
    },
    {
      "cell_type": "code",
      "metadata": {
        "id": "j5-nZOWR834x"
      },
      "source": [
        "# a) crie um arquivo chamado aluno.txt e escreva nele o seu nome\n",
        "with open('aluno.txt', 'w') as aluno:\n",
        "  aluno.write('aluno')\n"
      ],
      "execution_count": 29,
      "outputs": []
    },
    {
      "cell_type": "code",
      "metadata": {
        "id": "8LCV7SBWdf69"
      },
      "source": [
        "# b) acrescente sua idade e profissão\n",
        "with open('aluno.txt', 'a') as aluno:\n",
        "  aluno.write('\\n 27')"
      ],
      "execution_count": 30,
      "outputs": []
    },
    {
      "cell_type": "code",
      "metadata": {
        "id": "-Lb3z8vPdvN-",
        "colab": {
          "base_uri": "https://localhost:8080/"
        },
        "outputId": "841c9718-d12c-448d-e2ec-bf4b2cb952b7"
      },
      "source": [
        "# c) leia as informações contidas no arquivo\n",
        "with open('aluno.txt', 'r') as aluno:\n",
        "  print(aluno.read())\n",
        "\n"
      ],
      "execution_count": 31,
      "outputs": [
        {
          "output_type": "stream",
          "name": "stdout",
          "text": [
            "aluno\n",
            " 27\n"
          ]
        }
      ]
    },
    {
      "cell_type": "markdown",
      "metadata": {
        "id": "ihW0S9ti-fzg"
      },
      "source": [
        "### Exercício 3\n",
        "\n",
        "Renomeie o arquivo para sigmoidal.txt."
      ]
    },
    {
      "cell_type": "code",
      "metadata": {
        "id": "cPXKwKCv9Ah6"
      },
      "source": [
        "# renomeie o arquivo\n",
        "os.rename('aluno.txt', 'rename_aluno.txt')"
      ],
      "execution_count": 32,
      "outputs": []
    },
    {
      "cell_type": "code",
      "metadata": {
        "id": "r5dmdVK4UB1F"
      },
      "source": [
        "#@title Solução\n",
        "# carregando o arquivo a ser renomeado\n",
        "aluno = \"aluno.txt\"\n",
        "\n",
        "# renomeando o arquivo\n",
        "os.rename(aluno,'sigmoidal.txt') \n",
        "\n",
        "# verificando que o nome do arquivo foi mudado\n",
        "os.listdir()\n"
      ],
      "execution_count": null,
      "outputs": []
    },
    {
      "cell_type": "code",
      "metadata": {
        "id": "UmGmcc4sUPrO"
      },
      "source": [
        ""
      ],
      "execution_count": null,
      "outputs": []
    }
  ]
}