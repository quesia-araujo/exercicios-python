{
  "nbformat": 4,
  "nbformat_minor": 0,
  "metadata": {
    "colab": {
      "name": "relatorios_pdf.ipynb",
      "provenance": [],
      "authorship_tag": "ABX9TyOUZ2jqwmWX4uAkSeImk4XJ",
      "include_colab_link": true
    },
    "kernelspec": {
      "name": "python3",
      "display_name": "Python 3"
    },
    "language_info": {
      "name": "python"
    }
  },
  "cells": [
    {
      "cell_type": "markdown",
      "metadata": {
        "id": "view-in-github",
        "colab_type": "text"
      },
      "source": [
        "<a href=\"https://colab.research.google.com/github/quesia-araujo/exercicios-python/blob/main/relatorios_pdf.ipynb\" target=\"_parent\"><img src=\"https://colab.research.google.com/assets/colab-badge.svg\" alt=\"Open In Colab\"/></a>"
      ]
    },
    {
      "cell_type": "markdown",
      "source": [
        "# instalando o pdfplumber\n",
        "!pip install pdfplumber -q"
      ],
      "metadata": {
        "id": "VDs-vpqovm1i"
      }
    },
    {
      "cell_type": "code",
      "source": [
        "# instalando o pdfplumber\n",
        "!pip install pdfplumber -q"
      ],
      "metadata": {
        "id": "9P6rwtKew4za"
      },
      "execution_count": 4,
      "outputs": []
    },
    {
      "cell_type": "code",
      "source": [
        "# importando pacotes\n",
        "from google.colab import drive\n",
        "import pdfplumber\n",
        "import os\n",
        "\n",
        "# montando o drive\n",
        "drive.mount('/content/gdrive')"
      ],
      "metadata": {
        "colab": {
          "base_uri": "https://localhost:8080/"
        },
        "id": "mxuVQxfWxPaV",
        "outputId": "9850c9d9-6354-42e8-f195-930ef5419f7b"
      },
      "execution_count": 5,
      "outputs": [
        {
          "output_type": "stream",
          "name": "stdout",
          "text": [
            "Mounted at /content/gdrive\n"
          ]
        }
      ]
    },
    {
      "cell_type": "code",
      "source": [
        "# mudar para diretório dos pdfs \n",
        "os.chdir('/content/gdrive/MyDrive/relatorios')"
      ],
      "metadata": {
        "id": "v7xwlhD50pJd"
      },
      "execution_count": 6,
      "outputs": []
    },
    {
      "cell_type": "code",
      "source": [
        "# verificar se está n diretório correto\n",
        "\n",
        "os.getcwd()"
      ],
      "metadata": {
        "colab": {
          "base_uri": "https://localhost:8080/",
          "height": 35
        },
        "id": "bsXV1HAn1Jkk",
        "outputId": "5fd2559f-c837-452a-cf16-813005f0b929"
      },
      "execution_count": 8,
      "outputs": [
        {
          "output_type": "execute_result",
          "data": {
            "text/plain": [
              "'/content/gdrive/MyDrive/relatorios'"
            ],
            "application/vnd.google.colaboratory.intrinsic+json": {
              "type": "string"
            }
          },
          "metadata": {},
          "execution_count": 8
        }
      ]
    },
    {
      "cell_type": "code",
      "source": [
        "arquivos_semana = os.listdir()\n",
        "print(arquivos_semana)"
      ],
      "metadata": {
        "colab": {
          "base_uri": "https://localhost:8080/"
        },
        "id": "6_iNiUdB1exT",
        "outputId": "a1f9aeb0-9de1-45b9-ca39-13c047ddea2f"
      },
      "execution_count": 9,
      "outputs": [
        {
          "output_type": "stream",
          "name": "stdout",
          "text": [
            "['20200801.pdf', '20200802.pdf', '20200803.pdf', '20200804.pdf', '20200805.pdf']\n"
          ]
        }
      ]
    },
    {
      "cell_type": "code",
      "source": [
        "# criando um contador\n",
        "soma = 0\n",
        "\n",
        "# criando função\n",
        "for  arquivo in arquivos_semana:\n",
        "  relatorio = pdfplumber.open(arquivo)\n",
        "  pagina = relatorio.pages[0]\n",
        "  texto = pagina.extract_text()\n",
        "  valor = texto.split(\"\\n\")[6].replace(\"\\t\",\"\").split(\"R$\")[1]\n",
        "  valor = float(valor)\n",
        "  soma = soma  +  valor\n",
        "  print (arquivo, \"--->\", valor)\n"
      ],
      "metadata": {
        "colab": {
          "base_uri": "https://localhost:8080/"
        },
        "id": "fR2yx5Wu1tK0",
        "outputId": "77fc35ca-1581-4ce6-c9f1-3a3e9d47e97b"
      },
      "execution_count": 12,
      "outputs": [
        {
          "output_type": "stream",
          "name": "stdout",
          "text": [
            "20200801.pdf ---> 1297.0\n",
            "20200802.pdf ---> 537.0\n",
            "20200803.pdf ---> 554.0\n",
            "20200804.pdf ---> 2554.0\n",
            "20200805.pdf ---> 154.0\n"
          ]
        }
      ]
    },
    {
      "cell_type": "code",
      "source": [
        "# soma total\n",
        "print('Receita dos ultimos 5 dias: R$ ', soma)"
      ],
      "metadata": {
        "colab": {
          "base_uri": "https://localhost:8080/"
        },
        "id": "-Wu3EYvc3j3_",
        "outputId": "c559bbeb-379d-4d79-eb73-db089ac092ab"
      },
      "execution_count": 13,
      "outputs": [
        {
          "output_type": "stream",
          "name": "stdout",
          "text": [
            "Receita dos ultimos 5 dias: R$  5096.0\n"
          ]
        }
      ]
    }
  ]
}