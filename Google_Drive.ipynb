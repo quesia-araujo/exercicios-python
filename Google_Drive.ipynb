{
  "nbformat": 4,
  "nbformat_minor": 0,
  "metadata": {
    "colab": {
      "name": " Google Drive ",
      "provenance": [],
      "collapsed_sections": [],
      "include_colab_link": true
    },
    "kernelspec": {
      "name": "python3",
      "display_name": "Python 3"
    }
  },
  "cells": [
    {
      "cell_type": "markdown",
      "metadata": {
        "id": "view-in-github",
        "colab_type": "text"
      },
      "source": [
        "<a href=\"https://colab.research.google.com/github/quesia-araujo/exercicios-python/blob/main/Google_Drive.ipynb\" target=\"_parent\"><img src=\"https://colab.research.google.com/assets/colab-badge.svg\" alt=\"Open In Colab\"/></a>"
      ]
    },
    {
      "cell_type": "markdown",
      "metadata": {
        "id": "r_GKvZa6kn34"
      },
      "source": [
        "## Google Drive e Google Colab\n",
        "\n",
        "Estar dentro do ecossistema do Google tem suas vantagens. Além de estarmos utilizando um ambiente altamente interativo, prático, robusto e fácil de usar, também temos integração facilitada com outros produtos Google, como o Google Drive, por exemplo.\n",
        "\n",
        "\n",
        "<center><img width=\"20%\" src=\"https://upload.wikimedia.org/wikipedia/commons/thumb/5/53/Google_%22G%22_Logo.svg/1004px-Google_%22G%22_Logo.svg.png\"></center>\n"
      ]
    },
    {
      "cell_type": "markdown",
      "metadata": {
        "id": "ekjiotG7lauV"
      },
      "source": [
        "## Acessando o Google Drive a partir do Colab\n",
        "\n",
        "O Google Drive é o sistema de armazenamento em nuvem do Google, e pode ser um grande facilitador na acessibilidade aos arquivos que vamos trabalhar.\n",
        "\n",
        "Usando o pacote `drive` da biblioteca `google.colab` conseguimos interagir com nosso drive de forma prática e simples. Tudo que precisamos fazer é montar o drive com o comando abaixo."
      ]
    },
    {
      "cell_type": "code",
      "metadata": {
        "id": "4geNsOJwgBAe",
        "colab": {
          "base_uri": "https://localhost:8080/"
        },
        "outputId": "15cfd452-af6f-4763-a494-6e1544c993ff"
      },
      "source": [
        "# importando os pacotes necessários\n",
        "from google.colab import drive\n",
        "\n",
        "# montando o drive\n",
        "drive.mount('/content/gdrive')"
      ],
      "execution_count": 2,
      "outputs": [
        {
          "output_type": "stream",
          "name": "stdout",
          "text": [
            "Mounted at /content/gdrive\n"
          ]
        }
      ]
    },
    {
      "cell_type": "markdown",
      "metadata": {
        "id": "C5SL9YuqmHSW"
      },
      "source": [
        "Pronto! Seu drive foi montado e está disponível para ser acessado. Você pode visualizá-lo na aba arquivos na lateral esquerda do navegador.\n",
        "\n",
        "É possível usar a função `!ls` para listar os arquivos disponíveis dentro do nosso drive."
      ]
    },
    {
      "cell_type": "code",
      "metadata": {
        "id": "NqT5a18RgN-1"
      },
      "source": [
        "# listando arquivos\n",
        "!ls 'gdrive/My Drive/'"
      ],
      "execution_count": null,
      "outputs": []
    },
    {
      "cell_type": "markdown",
      "metadata": {
        "id": "SZHlSRlymaGy"
      },
      "source": [
        "Agora que temos acesso aos nossos arquivos, podemos manipulá-los.\n"
      ]
    },
    {
      "cell_type": "code",
      "source": [
        "# lendo o arquivo lista_de_clientes.txt\n",
        "with open('/content/gdrive/MyDrive/teste.txt', 'r') as clientes:\n",
        "  print(clientes.read())"
      ],
      "metadata": {
        "colab": {
          "base_uri": "https://localhost:8080/"
        },
        "id": "m1_tMllj2r-3",
        "outputId": "baab6ae5-b071-4870-bda4-cebc097025c4"
      },
      "execution_count": 6,
      "outputs": [
        {
          "output_type": "stream",
          "name": "stdout",
          "text": [
            "a\n",
            "b\n",
            "c\n",
            "d\n",
            "\n"
          ]
        }
      ]
    }
  ]
}