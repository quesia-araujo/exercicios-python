{
  "nbformat": 4,
  "nbformat_minor": 0,
  "metadata": {
    "colab": {
      "name": " Google Drive ",
      "provenance": [],
      "collapsed_sections": [],
      "include_colab_link": true
    },
    "kernelspec": {
      "name": "python3",
      "display_name": "Python 3"
    }
  },
  "cells": [
    {
      "cell_type": "markdown",
      "metadata": {
        "id": "view-in-github",
        "colab_type": "text"
      },
      "source": [
        "<a href=\"https://colab.research.google.com/github/quesia-araujo/exercicios-python/blob/conteudos/Google_Drive.ipynb\" target=\"_parent\"><img src=\"https://colab.research.google.com/assets/colab-badge.svg\" alt=\"Open In Colab\"/></a>"
      ]
    },
    {
      "cell_type": "markdown",
      "metadata": {
        "id": "r_GKvZa6kn34"
      },
      "source": [
        "## Google Drive e Google Colab\n",
        "\n",
        "Estar dentro do ecossistema do Google tem suas vantagens. Além de estarmos utilizando um ambiente altamente interativo, prático, robusto e fácil de usar, também temos integração facilitada com outros produtos Google, como o Google Drive, por exemplo.\n",
        "\n",
        "\n",
        "<center><img width=\"20%\" src=\"https://upload.wikimedia.org/wikipedia/commons/thumb/5/53/Google_%22G%22_Logo.svg/1004px-Google_%22G%22_Logo.svg.png\"></center>\n"
      ]
    },
    {
      "cell_type": "markdown",
      "metadata": {
        "id": "ekjiotG7lauV"
      },
      "source": [
        "## Acessando o Google Drive a partir do Colab\n",
        "\n",
        "O Google Drive é o sistema de armazenamento em nuvem do Google, e pode ser um grande facilitador do nosso trabalho no que tange acessibilidade aos arquivos que vamos trabalhar.\n",
        "\n",
        "Usando o pacote `drive` da biblioteca `google.colab` conseguimos interagir com nosso drive de forma prática e simples. Tudo que precisamos fazer é montar o drive com o comando abaixo.\n",
        "\n",
        "Após rodar a célula, abrirá uma nova janela, pedindo autorização para acessar a conta e manipular os arquivos contidos nela. Após liberar o acesso, copie o código gerado e insira-o abaixo."
      ]
    },
    {
      "cell_type": "code",
      "metadata": {
        "id": "4geNsOJwgBAe"
      },
      "source": [
        "# importando os pacotes necessários\n",
        "from google.colab import drive\n",
        "\n",
        "# montando o drive\n",
        "drive.mount('/content/gdrive')"
      ],
      "execution_count": null,
      "outputs": []
    },
    {
      "cell_type": "markdown",
      "metadata": {
        "id": "C5SL9YuqmHSW"
      },
      "source": [
        "Pronto! Seu drive foi montado e está disponível para ser acessado. Você pode visualizá-lo na aba arquivos na lateral esquerda do navegador.\n",
        "\n",
        "É possível usar a função `!ls` para listar os arquivos disponíveis dentro do nosso drive."
      ]
    },
    {
      "cell_type": "code",
      "metadata": {
        "id": "NqT5a18RgN-1"
      },
      "source": [
        "# listando arquivos\n",
        "!ls 'gdrive/My Drive/'"
      ],
      "execution_count": null,
      "outputs": []
    },
    {
      "cell_type": "markdown",
      "metadata": {
        "id": "SZHlSRlymaGy"
      },
      "source": [
        "Agora que temos acesso aos nossos arquivos, podemos manipulá-los.\n"
      ]
    },
    {
      "cell_type": "code",
      "metadata": {
        "id": "qvJPgOFege0h",
        "colab": {
          "base_uri": "https://localhost:8080/",
          "height": 202
        },
        "outputId": "673b3846-d0bf-475e-dda2-e6026f4fa4ff"
      },
      "source": [
        "# lendo o arquivo lista_de_clientes.txt\n",
        "with open('caminhiho do arquivo', 'r') as clientes:\n",
        "  print(clientes.read())"
      ],
      "execution_count": 1,
      "outputs": [
        {
          "output_type": "error",
          "ename": "FileNotFoundError",
          "evalue": "ignored",
          "traceback": [
            "\u001b[0;31m---------------------------------------------------------------------------\u001b[0m",
            "\u001b[0;31mFileNotFoundError\u001b[0m                         Traceback (most recent call last)",
            "\u001b[0;32m<ipython-input-1-95e59421d73f>\u001b[0m in \u001b[0;36m<module>\u001b[0;34m()\u001b[0m\n\u001b[1;32m      1\u001b[0m \u001b[0;31m# lendo o arquivo lista_de_clientes.txt\u001b[0m\u001b[0;34m\u001b[0m\u001b[0;34m\u001b[0m\u001b[0;34m\u001b[0m\u001b[0m\n\u001b[0;32m----> 2\u001b[0;31m \u001b[0;32mwith\u001b[0m \u001b[0mopen\u001b[0m\u001b[0;34m(\u001b[0m\u001b[0;34m'caminhiho do arquivo'\u001b[0m\u001b[0;34m,\u001b[0m \u001b[0;34m'r'\u001b[0m\u001b[0;34m)\u001b[0m \u001b[0;32mas\u001b[0m \u001b[0mclientes\u001b[0m\u001b[0;34m:\u001b[0m\u001b[0;34m\u001b[0m\u001b[0;34m\u001b[0m\u001b[0m\n\u001b[0m\u001b[1;32m      3\u001b[0m   \u001b[0mprint\u001b[0m\u001b[0;34m(\u001b[0m\u001b[0mclientes\u001b[0m\u001b[0;34m.\u001b[0m\u001b[0mread\u001b[0m\u001b[0;34m(\u001b[0m\u001b[0;34m)\u001b[0m\u001b[0;34m)\u001b[0m\u001b[0;34m\u001b[0m\u001b[0;34m\u001b[0m\u001b[0m\n",
            "\u001b[0;31mFileNotFoundError\u001b[0m: [Errno 2] No such file or directory: 'caminhiho do arquivo'"
          ]
        }
      ]
    }
  ]
}