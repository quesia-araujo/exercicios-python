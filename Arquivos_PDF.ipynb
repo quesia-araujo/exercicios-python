{
  "nbformat": 4,
  "nbformat_minor": 0,
  "metadata": {
    "colab": {
      "name": " Manipulando Arquivos PDF",
      "provenance": [],
      "collapsed_sections": [],
      "include_colab_link": true
    },
    "kernelspec": {
      "name": "python3",
      "display_name": "Python 3"
    }
  },
  "cells": [
    {
      "cell_type": "markdown",
      "metadata": {
        "id": "view-in-github",
        "colab_type": "text"
      },
      "source": [
        "<a href=\"https://colab.research.google.com/github/quesia-araujo/exercicios-python/blob/main/Arquivos_PDF.ipynb\" target=\"_parent\"><img src=\"https://colab.research.google.com/assets/colab-badge.svg\" alt=\"Open In Colab\"/></a>"
      ]
    },
    {
      "cell_type": "markdown",
      "metadata": {
        "id": "ZiW5N3JAtjIz"
      },
      "source": [
        "\n",
        "## Biblioteca PDF Plumber\n",
        "\n",
        "Em nossa rotina de trabalho é muito comum termos que lidar com arquivos no formato PDF. Criamos, editamos, acessamos e compartilhamos arquivos nesse formato, que muitas vezes, fazem parte de nossas atividades primordiais na empresa.\n",
        "\n",
        "Com essa biblioteca de Python, será possível facilitar esse processo. A biblioteca [PDF Plumber](https://github.com/jsvine/pdfplumber) possui uma grande gama de funções e argumentos, e aqui nós vamos começar a nos aventurar com essas funções.\n",
        "\n",
        "Outro detalhe importante é que, nativamente, o Google Colab não possui essa biblioteca instalada, então nós precisamos instalar a mesma no nosso ambiente.\n",
        "\n",
        "Para isso, vamos utilizar o gerenciador de pacotes `pip`, e com o comando `install` vamos instalar a biblioteca.\n",
        "\n"
      ]
    },
    {
      "cell_type": "code",
      "metadata": {
        "id": "F4_oeGhjt4y8"
      },
      "source": [
        "# instalando a biblioteca\n",
        "!pip install pdfplumber"
      ],
      "execution_count": null,
      "outputs": []
    },
    {
      "cell_type": "markdown",
      "metadata": {
        "id": "7x-0TWdK2JYb"
      },
      "source": [
        "Agora que a biblioteca foi instalada, basta fazer a importação, e usar.\n",
        "\n",
        "É preciso importar também a biblioteca `os` para manipular os arquivos, e o `drive` para montar e acessar nosso Google Drive."
      ]
    },
    {
      "cell_type": "code",
      "metadata": {
        "id": "DewqL6GNtUqa"
      },
      "source": [
        "# importando os pacotes necessários\n",
        "import pdfplumber\n",
        "import os\n",
        "from google.colab import drive"
      ],
      "execution_count": 2,
      "outputs": []
    },
    {
      "cell_type": "markdown",
      "metadata": {
        "id": "qlKWfvfa2Ytr"
      },
      "source": [
        "Pronto! Agora é só montar nosso drive e buscar os arquivos."
      ]
    },
    {
      "cell_type": "code",
      "metadata": {
        "id": "SSvr3THEuDSW",
        "colab": {
          "base_uri": "https://localhost:8080/"
        },
        "outputId": "9139bd2d-1745-48e6-ab8a-2a1ffbcbe986"
      },
      "source": [
        "# montando o drive\n",
        "drive.mount('/content/gdrive')"
      ],
      "execution_count": 3,
      "outputs": [
        {
          "output_type": "stream",
          "name": "stdout",
          "text": [
            "Mounted at /content/gdrive\n"
          ]
        }
      ]
    },
    {
      "cell_type": "markdown",
      "metadata": {
        "id": "hUIKa2iH2fvd"
      },
      "source": [
        "Verificando o conteúdo do nosso drive, podemos ver que o arquivo `modelo_de_relatorio.pdf` está lá, pronto para ser usado.\n",
        "\n",
        "Vamos carregá-lo e ver como essa biblioteca funciona na prática."
      ]
    },
    {
      "cell_type": "code",
      "metadata": {
        "id": "004L1AYOuSgT"
      },
      "source": [
        "# verificando o conteúdo do drive\n",
        "!ls '/content/gdrive/My Drive'"
      ],
      "execution_count": null,
      "outputs": []
    },
    {
      "cell_type": "markdown",
      "metadata": {
        "id": "7IO7R0kl3Gva"
      },
      "source": [
        "### pdfplumber.open()\n",
        "\n",
        "Para abrir um arquivo, vamos associá-lo a uma variável, para que ele possa ser facilmente acessado depois.\n",
        "\n",
        "Utilizamos o comando `pdfplumber.open('caminho/do/meu/arquivo')` com o caminho do arquivo dentro dos parênteses, dentro de aspas, simples ou duplas."
      ]
    },
    {
      "cell_type": "code",
      "metadata": {
        "id": "hdp90dsGucY6"
      },
      "source": [
        "# abrindo o documento\n",
        "pdf = pdfplumber.open('/content/gdrive/MyDrive/Construção adaptação e validação de instrumentos de autorrelato.pdf')"
      ],
      "execution_count": 5,
      "outputs": []
    },
    {
      "cell_type": "markdown",
      "metadata": {
        "id": "XFKTVq6l4Fc5"
      },
      "source": [
        "### pages\n",
        "Para acessar as páginas existentes no arquivo, utilizamos a função `pages`.\n",
        "\n",
        "Ela retorna uma lista com as páginas do arquivo."
      ]
    },
    {
      "cell_type": "code",
      "metadata": {
        "id": "gqZKbdiqusij",
        "colab": {
          "base_uri": "https://localhost:8080/"
        },
        "outputId": "41194ab3-70d5-41f3-dd85-a92cc771693d"
      },
      "source": [
        "# ver o número de páginas do pdf:\n",
        "pdf.pages"
      ],
      "execution_count": 6,
      "outputs": [
        {
          "output_type": "execute_result",
          "data": {
            "text/plain": [
              "[<Page:1>]"
            ]
          },
          "metadata": {},
          "execution_count": 6
        }
      ]
    },
    {
      "cell_type": "markdown",
      "metadata": {
        "id": "djmfxiee4R72"
      },
      "source": [
        "Ao fazer qualquer manipulação, precisamos sempre identificar a página em que isso está acontecendo, mesmo que o documento possua apenas uma página.\n",
        "\n",
        "Para isso, utilizaremos a função `pages`, passando como argumento o número da página que desejamos manipular, lembrando sempre que começamos a contar a partir do 0."
      ]
    },
    {
      "cell_type": "code",
      "metadata": {
        "id": "5XJYSrMNuw5r",
        "colab": {
          "base_uri": "https://localhost:8080/"
        },
        "outputId": "4a2ec93e-64a3-44d0-dd38-3d54f2fa7352"
      },
      "source": [
        "# selecionando uma página\n",
        "page = pdf.pages[0]\n",
        "page"
      ],
      "execution_count": 7,
      "outputs": [
        {
          "output_type": "execute_result",
          "data": {
            "text/plain": [
              "<Page:1>"
            ]
          },
          "metadata": {},
          "execution_count": 7
        }
      ]
    },
    {
      "cell_type": "markdown",
      "metadata": {
        "id": "RABL6kKm45HV"
      },
      "source": [
        "### metadata\n",
        "Metadados, de forma simples, são dados sobre outros dados. No nosso caso, são dados sobre o nosso arquivo, como o autor, data de criação, palavras chaves, título, etc.\n",
        "\n",
        "É possível extrair esses dados sobre nossos arquivos com facilidade usando a função `metadata` do pdfplumber."
      ]
    },
    {
      "cell_type": "code",
      "metadata": {
        "id": "ItMVvZ6ovhfZ",
        "colab": {
          "base_uri": "https://localhost:8080/"
        },
        "outputId": "a8fe6c47-bc38-4aae-f2c7-e56480501d4b"
      },
      "source": [
        "# coletando os metadados do arquivo\n",
        "pdf.metadata"
      ],
      "execution_count": 8,
      "outputs": [
        {
          "output_type": "execute_result",
          "data": {
            "text/plain": [
              "{'ModDate': 'D:20220224211338', 'Producer': 'HexaPDF version 0.20.4'}"
            ]
          },
          "metadata": {},
          "execution_count": 8
        }
      ]
    },
    {
      "cell_type": "markdown",
      "metadata": {
        "id": "oNOiwASS509V"
      },
      "source": [
        "### extract_text()\n",
        "\n",
        "No fim das contas, estamos interessados mesmo é no conteúdo do nosso arquivo, e isso também pode ser facilmente extraído utilizando o pdfplumber, através da função `extract_text()` que funciona no nível da página.\n",
        "\n",
        "Aqui, precisamos ter extraído a página que iremos trabalhar, e vamos associar a uma variável o resultado da execução da função `extract_text()` sobre a página. Depois, é só imprimir."
      ]
    },
    {
      "cell_type": "code",
      "metadata": {
        "id": "qPbRqtZ7u7R5",
        "colab": {
          "base_uri": "https://localhost:8080/"
        },
        "outputId": "fc1dd207-b65b-4e3d-eb63-4cf0e83ebc98"
      },
      "source": [
        "# extraindo o texto do arquivo\n",
        "text = page.extract_text()\n",
        "print(text)"
      ],
      "execution_count": 9,
      "outputs": [
        {
          "output_type": "stream",
          "name": "stdout",
          "text": [
            "Quesia de Araújo Santos\n",
            "24/02/2022\n"
          ]
        }
      ]
    },
    {
      "cell_type": "code",
      "metadata": {
        "id": "oSxpc0wLxXP1",
        "colab": {
          "base_uri": "https://localhost:8080/",
          "height": 35
        },
        "outputId": "befd1b97-4ecf-424a-bc8d-123f3dd143dc"
      },
      "source": [
        "page.extract_text()"
      ],
      "execution_count": 10,
      "outputs": [
        {
          "output_type": "execute_result",
          "data": {
            "text/plain": [
              "'Quesia de Araújo Santos\\n24/02/2022'"
            ],
            "application/vnd.google.colaboratory.intrinsic+json": {
              "type": "string"
            }
          },
          "metadata": {},
          "execution_count": 10
        }
      ]
    },
    {
      "cell_type": "code",
      "metadata": {
        "id": "R9r5pdRl5ROK"
      },
      "source": [
        ""
      ],
      "execution_count": null,
      "outputs": []
    }
  ]
}